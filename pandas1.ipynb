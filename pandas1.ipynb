{
  "nbformat": 4,
  "nbformat_minor": 0,
  "metadata": {
    "colab": {
      "provenance": [],
      "authorship_tag": "ABX9TyMN0k3t6D2/+4TXcr5ohq6q",
      "include_colab_link": true
    },
    "kernelspec": {
      "name": "python3",
      "display_name": "Python 3"
    },
    "language_info": {
      "name": "python"
    }
  },
  "cells": [
    {
      "cell_type": "markdown",
      "metadata": {
        "id": "view-in-github",
        "colab_type": "text"
      },
      "source": [
        "<a href=\"https://colab.research.google.com/github/Shilpa8943/datasciencelab/blob/main/pandas1.ipynb\" target=\"_parent\"><img src=\"https://colab.research.google.com/assets/colab-badge.svg\" alt=\"Open In Colab\"/></a>"
      ]
    },
    {
      "cell_type": "code",
      "execution_count": 1,
      "metadata": {
        "colab": {
          "base_uri": "https://localhost:8080/"
        },
        "id": "7GFdSj6icsb-",
        "outputId": "f5770353-7e61-4d49-aaa2-72a1853c0a40"
      },
      "outputs": [
        {
          "output_type": "stream",
          "name": "stdout",
          "text": [
            "Overview of dataframe : \n",
            "   1|24|M|technician|85711\n",
            "0       2|53|F|other|94043\n",
            "1      3|23|M|writer|32067\n",
            "2  4|24|M|technician|43537\n",
            "3       5|33|F|other|15213\n",
            "4   6|42|M|executive|98101\n",
            "Shape :  (942, 1)\n",
            "\n",
            "Dataframe after modifying the default parameter values for read_table: \n",
            "   user_id  age gender  occupation zip_code\n",
            "0        1   24      M  technician    85711\n",
            "1        2   53      F       other    94043\n",
            "2        3   23      M      writer    32067\n",
            "3        4   24      M  technician    43537\n",
            "4        5   33      F       other    15213\n"
          ]
        }
      ],
      "source": [
        "import pandas as pd\n",
        "orders = pd.read_table('http://bit.ly/movieusers')\n",
        "print(\"Overview of dataframe : \")\n",
        "print(orders.head())\n",
        "\n",
        "print(\"Shape : \",orders.shape)\n",
        "print()\n",
        "\n",
        "user_cols = ['user_id', 'age', 'gender', 'occupation', 'zip_code']\n",
        "users = pd.read_table('http://bit.ly/movieusers', sep='|', header=None, names=user_cols)\n",
        "\n",
        "print(\"Dataframe after modifying the default parameter values for read_table: \")\n",
        "print(users.head())"
      ]
    }
  ]
}